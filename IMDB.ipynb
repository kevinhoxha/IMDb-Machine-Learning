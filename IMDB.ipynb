{
  "nbformat": 4,
  "nbformat_minor": 0,
  "metadata": {
    "colab": {
      "name": "IMDB.ipynb",
      "provenance": [],
      "collapsed_sections": [],
      "include_colab_link": true
    },
    "kernelspec": {
      "name": "python3",
      "display_name": "Python 3"
    }
  },
  "cells": [
    {
      "cell_type": "markdown",
      "metadata": {
        "id": "view-in-github",
        "colab_type": "text"
      },
      "source": [
        "<a href=\"https://colab.research.google.com/github/kevinhoxha/IMDb-Machine-Learning/blob/master/IMDB.ipynb\" target=\"_parent\"><img src=\"https://colab.research.google.com/assets/colab-badge.svg\" alt=\"Open In Colab\"/></a>"
      ]
    },
    {
      "cell_type": "markdown",
      "metadata": {
        "id": "sFwEx6VvDqpu",
        "colab_type": "text"
      },
      "source": [
        "# Based on https://livebook.manning.com/book/deep-learning-with-python/chapter-3/\n",
        "\n",
        "\n"
      ]
    },
    {
      "cell_type": "code",
      "metadata": {
        "id": "2bk3WjE57xGl",
        "colab_type": "code",
        "colab": {
          "base_uri": "https://localhost:8080/",
          "height": 136
        },
        "outputId": "43533e9e-6116-4fef-a9a2-8879869ee326"
      },
      "source": [
        "from keras.datasets import imdb\n",
        "from keras import models\n",
        "from keras import layers\n",
        "from keras import losses\n",
        "from keras import metrics\n",
        "from keras import optimizers\n",
        "\n",
        "import numpy as np\n",
        "import matplotlib.pyplot as plt\n",
        "\n",
        "def vectorize_sequences(sequences, dimension=10000):\n",
        "    results = np.zeros((len(sequences), dimension))\n",
        "    for i, sequence in enumerate(sequences):\n",
        "        results[i, sequence] = 1.\n",
        "    return results\n",
        "\n",
        "(train_data, train_labels), (test_data, test_labels) = imdb.load_data(num_words=10000)\n",
        "x_train = vectorize_sequences(train_data)\n",
        "x_test = vectorize_sequences(test_data)\n",
        "y_train = np.asarray(train_labels).astype('float32')\n",
        "y_test = np.asarray(test_labels).astype('float32')\n",
        "\n",
        "print(\"train_data =\", train_data.shape)\n",
        "print(\"x_train =\", x_train.shape)\n",
        "print(\"test_data =\", test_data.shape)\n",
        "print(\"x_test =\", x_test.shape)\n",
        "\n",
        "#word_index = imdb.get_word_index()\n",
        "#reverse_word_index = dict([(value, key) for (key, value) in word_index.items()])\n",
        "#decoded_review = ' '.join([reverse_word_index.get(i - 3, '?') for i in train_data[2]])\n",
        "#for i in range(length):\n",
        "#  if (x_train[2, train_data[2][i]] != 1.0):\n",
        "#    print(x_train[2, train_data[2][i]])\n"
      ],
      "execution_count": 1,
      "outputs": [
        {
          "output_type": "stream",
          "text": [
            "Using TensorFlow backend.\n"
          ],
          "name": "stderr"
        },
        {
          "output_type": "stream",
          "text": [
            "Downloading data from https://s3.amazonaws.com/text-datasets/imdb.npz\n",
            "17465344/17464789 [==============================] - 1s 0us/step\n",
            "train_data = (25000,)\n",
            "x_train = (25000, 10000)\n",
            "test_data = (25000,)\n",
            "x_test = (25000, 10000)\n"
          ],
          "name": "stdout"
        }
      ]
    },
    {
      "cell_type": "code",
      "metadata": {
        "id": "6aFDQwdU36ih",
        "colab_type": "code",
        "colab": {}
      },
      "source": [
        "model = models.Sequential()\n",
        "model.add(layers.Dense(16, activation='relu', input_shape=(10000,)))\n",
        "model.add(layers.Dense(16, activation='relu'))\n",
        "model.add(layers.Dense(1, activation='sigmoid'))\n",
        "\n",
        "model.compile(optimizer=optimizers.RMSprop(lr=0.001),\n",
        "              loss=losses.binary_crossentropy,\n",
        "              metrics=[metrics.binary_accuracy])"
      ],
      "execution_count": 2,
      "outputs": []
    },
    {
      "cell_type": "code",
      "metadata": {
        "id": "d1Ajmzp1-0uH",
        "colab_type": "code",
        "colab": {
          "base_uri": "https://localhost:8080/",
          "height": 714
        },
        "outputId": "d3aeaa61-4bc0-4a43-9ec8-5a79fb56f0e8"
      },
      "source": [
        "history = model.fit(x_train,\n",
        "                    y_train,\n",
        "                    epochs=20,\n",
        "                    batch_size=512,\n",
        "                    validation_data=(x_test, y_test))"
      ],
      "execution_count": 3,
      "outputs": [
        {
          "output_type": "stream",
          "text": [
            "Train on 25000 samples, validate on 25000 samples\n",
            "Epoch 1/20\n",
            "25000/25000 [==============================] - 3s 122us/step - loss: 0.4660 - binary_accuracy: 0.8222 - val_loss: 0.3453 - val_binary_accuracy: 0.8835\n",
            "Epoch 2/20\n",
            "25000/25000 [==============================] - 3s 107us/step - loss: 0.2685 - binary_accuracy: 0.9092 - val_loss: 0.2877 - val_binary_accuracy: 0.8894\n",
            "Epoch 3/20\n",
            "25000/25000 [==============================] - 3s 108us/step - loss: 0.2063 - binary_accuracy: 0.9270 - val_loss: 0.2847 - val_binary_accuracy: 0.8869\n",
            "Epoch 4/20\n",
            "25000/25000 [==============================] - 3s 107us/step - loss: 0.1723 - binary_accuracy: 0.9400 - val_loss: 0.2998 - val_binary_accuracy: 0.8822\n",
            "Epoch 5/20\n",
            "25000/25000 [==============================] - 3s 108us/step - loss: 0.1507 - binary_accuracy: 0.9462 - val_loss: 0.3057 - val_binary_accuracy: 0.8806\n",
            "Epoch 6/20\n",
            "25000/25000 [==============================] - 3s 107us/step - loss: 0.1314 - binary_accuracy: 0.9542 - val_loss: 0.3472 - val_binary_accuracy: 0.8705\n",
            "Epoch 7/20\n",
            "25000/25000 [==============================] - 3s 108us/step - loss: 0.1183 - binary_accuracy: 0.9587 - val_loss: 0.3444 - val_binary_accuracy: 0.8747\n",
            "Epoch 8/20\n",
            "25000/25000 [==============================] - 3s 108us/step - loss: 0.1043 - binary_accuracy: 0.9634 - val_loss: 0.3721 - val_binary_accuracy: 0.8697\n",
            "Epoch 9/20\n",
            "25000/25000 [==============================] - 3s 107us/step - loss: 0.0945 - binary_accuracy: 0.9682 - val_loss: 0.3969 - val_binary_accuracy: 0.8674\n",
            "Epoch 10/20\n",
            "25000/25000 [==============================] - 3s 107us/step - loss: 0.0827 - binary_accuracy: 0.9730 - val_loss: 0.4430 - val_binary_accuracy: 0.8597\n",
            "Epoch 11/20\n",
            "25000/25000 [==============================] - 3s 109us/step - loss: 0.0756 - binary_accuracy: 0.9746 - val_loss: 0.4488 - val_binary_accuracy: 0.8652\n",
            "Epoch 12/20\n",
            "25000/25000 [==============================] - 3s 110us/step - loss: 0.0687 - binary_accuracy: 0.9784 - val_loss: 0.4765 - val_binary_accuracy: 0.8608\n",
            "Epoch 13/20\n",
            "25000/25000 [==============================] - 3s 111us/step - loss: 0.0590 - binary_accuracy: 0.9823 - val_loss: 0.5387 - val_binary_accuracy: 0.8510\n",
            "Epoch 14/20\n",
            "25000/25000 [==============================] - 3s 110us/step - loss: 0.0538 - binary_accuracy: 0.9846 - val_loss: 0.5461 - val_binary_accuracy: 0.8585\n",
            "Epoch 15/20\n",
            "25000/25000 [==============================] - 3s 109us/step - loss: 0.0473 - binary_accuracy: 0.9858 - val_loss: 0.5785 - val_binary_accuracy: 0.8580\n",
            "Epoch 16/20\n",
            "25000/25000 [==============================] - 3s 111us/step - loss: 0.0400 - binary_accuracy: 0.9884 - val_loss: 0.6130 - val_binary_accuracy: 0.8562\n",
            "Epoch 17/20\n",
            "25000/25000 [==============================] - 3s 110us/step - loss: 0.0360 - binary_accuracy: 0.9902 - val_loss: 0.6421 - val_binary_accuracy: 0.8530\n",
            "Epoch 18/20\n",
            "25000/25000 [==============================] - 3s 109us/step - loss: 0.0317 - binary_accuracy: 0.9913 - val_loss: 0.7057 - val_binary_accuracy: 0.8508\n",
            "Epoch 19/20\n",
            "25000/25000 [==============================] - 3s 109us/step - loss: 0.0253 - binary_accuracy: 0.9932 - val_loss: 0.7251 - val_binary_accuracy: 0.8517\n",
            "Epoch 20/20\n",
            "25000/25000 [==============================] - 3s 111us/step - loss: 0.0238 - binary_accuracy: 0.9941 - val_loss: 0.7575 - val_binary_accuracy: 0.8478\n"
          ],
          "name": "stdout"
        }
      ]
    },
    {
      "cell_type": "code",
      "metadata": {
        "id": "in1bLHozCcjk",
        "colab_type": "code",
        "colab": {
          "base_uri": "https://localhost:8080/",
          "height": 282
        },
        "outputId": "1076f238-06c0-4f0a-d071-e306267a3c59"
      },
      "source": [
        "history_dict = history.history\n",
        "\n",
        "loss_values = history_dict['loss']\n",
        "val_loss_values = history_dict['val_loss']\n",
        "acc_values = history_dict['binary_accuracy']\n",
        "val_acc_values = history_dict['val_binary_accuracy']\n",
        "\n",
        "epochs = range(1, len(acc_values) + 1)\n",
        "\n",
        "fig, axs = plt.subplots(2, sharex=True, sharey=False, gridspec_kw={'hspace': 0})\n",
        "\n",
        "color = 'tab:red'\n",
        "axs[1].plot(epochs, loss_values, 'bo', label='Training', color=color)\n",
        "axs[1].plot(epochs, val_loss_values, 'b', label='Validation', color=color)\n",
        "axs[1].set_ylabel('Loss')\n",
        "axs[1].set_xlabel('Epochs')\n",
        "axs[1].legend()\n",
        "\n",
        "color = 'tab:blue'\n",
        "axs[0].plot(epochs, acc_values, 'bo', label='Training', color=color)\n",
        "axs[0].plot(epochs, val_acc_values, 'b', label='Validation', color=color)\n",
        "axs[0].set_ylabel('Accuracy')\n",
        "axs[0].legend()\n",
        "\n",
        "plt.show()\n"
      ],
      "execution_count": 4,
      "outputs": [
        {
          "output_type": "display_data",
          "data": {
            "image/png": "[encoded data removed]",
            "text/plain": [
              "<Figure size 432x288 with 2 Axes>"
            ]
          },
          "metadata": {
            "tags": [],
            "needs_background": "light"
          }
        }
      ]
    }
  ]
}